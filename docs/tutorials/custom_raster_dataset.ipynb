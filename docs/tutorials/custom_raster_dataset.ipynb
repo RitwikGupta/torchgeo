{
 "cells": [
  {
   "cell_type": "markdown",
   "metadata": {},
   "source": [
    "Copyright (c) Microsoft Corporation. All rights reserved.\n",
    "\n",
    "Licensed under the MIT License."
   ]
  },
  {
   "cell_type": "markdown",
   "metadata": {},
   "source": [
    "# Custom Raster Datasets\n",
    "\n",
    "In this tutorial, we demonstrate how to create a custom `RasterDataset` for our own data. We will use the [xView3](https://iuu.xview.us/) tiny dataset as an example."
   ]
  },
  {
   "cell_type": "markdown",
   "metadata": {},
   "source": [
    "# Setup"
   ]
  },
  {
   "cell_type": "code",
   "execution_count": null,
   "metadata": {},
   "outputs": [],
   "source": [
    "%pip install torchgeo"
   ]
  },
  {
   "cell_type": "markdown",
   "metadata": {},
   "source": [
    "# Imports"
   ]
  },
  {
   "cell_type": "code",
   "execution_count": 1,
   "metadata": {},
   "outputs": [],
   "source": [
    "from pathlib import Path\n",
    "from typing import Callable, Dict, Optional\n",
    "\n",
    "import matplotlib.pyplot as plt\n",
    "import torch\n",
    "from rasterio.crs import CRS\n",
    "from torch import Tensor\n",
    "from torch.utils.data import DataLoader\n",
    "from torchgeo.datasets import RasterDataset, stack_samples\n",
    "from torchgeo.samplers import RandomGeoSampler\n"
   ]
  },
  {
   "cell_type": "markdown",
   "metadata": {},
   "source": [
    "# Custom RasterDataset"
   ]
  },
  {
   "cell_type": "markdown",
   "metadata": {},
   "source": [
    "## Unzipping the sample xView3 data from the tests folder"
   ]
  },
  {
   "cell_type": "code",
   "execution_count": 2,
   "metadata": {},
   "outputs": [],
   "source": [
    "from torchgeo.datasets.utils import extract_archive\n",
    "\n",
    "data_root = Path('../../tests/data/xview3/')\n",
    "extract_archive(str(data_root / 'sample_data.tar.gz'))"
   ]
  },
  {
   "cell_type": "markdown",
   "metadata": {},
   "source": [
    "Now we have the xView3 tiny dataset downloaded and unzipped in our local directory. Note that all the test GeoTIFFs are comprised entirely of zeros. Any plotted image will appear to be entirely uniform.\n",
    "\n",
    "    xview3\n",
    "    ├── 05bc615a9b0aaaaaa\n",
    "    │   ├── bathymetry.tif\n",
    "    │   ├── owiMask.tif\n",
    "    │   ├── owiWindDirection.tif\n",
    "    │   ├── owiWindQuality.tif\n",
    "    │   ├── owiWindSpeed.tif\n",
    "    │   ├── VH_dB.tif\n",
    "    │   └── VV_dB.tif\n",
    "\n",
    "We would like to create a custom Dataset class based off of RasterDataset for this xView3 data. This will let us use `torchgeo` features such as: random sampling, merging other layers, fusing multiple datasets with `UnionDataset` and `IntersectionDataset`, and more. To do this, we can simply subclass `RasterDataset` and define a `filename_glob` property to select which files in a root directory will be included in the dataset. For example:"
   ]
  },
  {
   "cell_type": "code",
   "execution_count": 3,
   "metadata": {},
   "outputs": [],
   "source": [
    "class XView3Polarizations(RasterDataset):\n",
    "    '''\n",
    "    Load xView3 polarization data that ends in *_dB.tif\n",
    "    '''\n",
    "\n",
    "    filename_glob = \"*_dB.tif\"\n",
    "\n",
    "    def __init__(\n",
    "        self,\n",
    "        root: Path = None,\n",
    "        crs: Optional[CRS] = None,\n",
    "        res: Optional[float] = None,\n",
    "        transforms: Optional[Callable[[Dict[str, Tensor]], Dict[str, Tensor]]] = None,\n",
    "        cache: bool = True\n",
    "    ) -> None:\n",
    "        self.root = root\n",
    "\n",
    "        super().__init__(root, crs, res, transforms, cache)"
   ]
  },
  {
   "cell_type": "code",
   "execution_count": 4,
   "metadata": {},
   "outputs": [
    {
     "name": "stdout",
     "output_type": "stream",
     "text": [
      "torch.Size([1, 1, 102, 102])\n",
      "torch.Size([1, 1, 102, 102])\n",
      "torch.Size([1, 1, 102, 102])\n",
      "torch.Size([1, 1, 102, 102])\n",
      "torch.Size([1, 1, 102, 102])\n"
     ]
    },
    {
     "data": {
      "image/png": "[encoded data removed]",
      "text/plain": [
       "<Figure size 432x288 with 1 Axes>"
      ]
     },
     "metadata": {
      "needs_background": "light"
     },
     "output_type": "display_data"
    }
   ],
   "source": [
    "ds = XView3Polarizations(data_root)\n",
    "sampler = RandomGeoSampler(ds, size=1024, length=5)\n",
    "dl = DataLoader(ds, sampler=sampler, collate_fn=stack_samples)\n",
    "\n",
    "for sample in dl:\n",
    "    image = sample['image']\n",
    "    print(image.shape)\n",
    "    image = torch.squeeze(image)\n",
    "    plt.imshow(image, cmap='bone', vmin=-35, vmax=-5)"
   ]
  },
  {
   "cell_type": "code",
   "execution_count": null,
   "metadata": {},
   "outputs": [],
   "source": []
  }
 ],
 "metadata": {
  "interpreter": {
   "hash": "22a454fc14687a2143ab970e8915cf1cd36fe3c442d7a97f02ebf86977418cbe"
  },
  "kernelspec": {
   "display_name": "Python 3.7.11 64-bit ('overwatch': conda)",
   "language": "python",
   "name": "python3"
  },
  "language_info": {
   "codemirror_mode": {
    "name": "ipython",
    "version": 3
   },
   "file_extension": ".py",
   "mimetype": "text/x-python",
   "name": "python",
   "nbconvert_exporter": "python",
   "pygments_lexer": "ipython3",
   "version": "3.7.11"
  },
  "orig_nbformat": 4
 },
 "nbformat": 4,
 "nbformat_minor": 2
}
